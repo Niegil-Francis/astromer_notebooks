{
  "cells": [
    {
      "cell_type": "markdown",
      "metadata": {
        "id": "RQJnxw9eEBlN"
      },
      "source": [
        "[![Open In Colab](https://colab.research.google.com/assets/colab-badge.svg)](https://colab.research.google.com/github/Niegil-Francis/astromer_notebooks/blob/main/Tutorial_finetuning_astromer.ipynb)"
      ]
    },
    {
      "cell_type": "markdown",
      "metadata": {
        "id": "ZMtJa4QfEAoL"
      },
      "source": [
        "# Tutorial - Finetuning Astromer"
      ]
    },
    {
      "cell_type": "markdown",
      "metadata": {
        "id": "R3UnR940RSNF"
      },
      "source": [
        "This tutorial will go through the steps required to finetune [Astromer](https://www.stellardnn.org/astromer/pages/about_astromer.html)."
      ]
    },
    {
      "cell_type": "markdown",
      "metadata": {
        "id": "XMKmGgw-R3n2"
      },
      "source": [
        "##### *Install the library*"
      ]
    },
    {
      "cell_type": "code",
      "execution_count": 1,
      "metadata": {
        "id": "caIjzdexoqPi"
      },
      "outputs": [],
      "source": [
        "%%capture\n",
        "!pip install test_model_hv"
      ]
    },
    {
      "cell_type": "markdown",
      "metadata": {
        "id": "6FjhfZUqSS4F"
      },
      "source": [
        "##### *Mount the drive containing the custom dataset*"
      ]
    },
    {
      "cell_type": "code",
      "execution_count": 2,
      "metadata": {
        "id": "o8NCKIMIpbez",
        "colab": {
          "base_uri": "https://localhost:8080/"
        },
        "outputId": "adcbbca3-c885-4865-eca8-477043a000b6"
      },
      "outputs": [
        {
          "output_type": "stream",
          "name": "stdout",
          "text": [
            "Drive already mounted at /content/drive/; to attempt to forcibly remount, call drive.mount(\"/content/drive/\", force_remount=True).\n"
          ]
        }
      ],
      "source": [
        "from google.colab import drive\n",
        "drive.mount('/content/drive/') "
      ]
    },
    {
      "cell_type": "markdown",
      "metadata": {
        "id": "8Z7dDcaWSb0v"
      },
      "source": [
        "##### *Import the necessary modules*"
      ]
    },
    {
      "cell_type": "code",
      "execution_count": 3,
      "metadata": {
        "id": "uolj-uHIhR3n"
      },
      "outputs": [],
      "source": [
        "from core.astromer import ASTROMER \n",
        "from core.data import pretraining_data\n",
        "from core.utils import get_folder_name\n",
        "from sklearn.metrics import r2_score\n",
        "import matplotlib.pyplot as plt\n",
        "import tensorflow as tf\n",
        "import json\n",
        "import os\n",
        "import warnings\n",
        "import numpy as np\n",
        "import pandas as pd\n",
        "import argparse\n",
        "import logging\n",
        "import time\n",
        "import os\n",
        "from time import gmtime, strftime\n",
        "warnings.filterwarnings(\"ignore\")"
      ]
    },
    {
      "cell_type": "markdown",
      "metadata": {
        "id": "ExGMvjWLj5fl"
      },
      "source": [
        "##### *Load the Astromer model*"
      ]
    },
    {
      "cell_type": "code",
      "execution_count": 4,
      "metadata": {
        "id": "fw5TyNgtjq8F",
        "colab": {
          "base_uri": "https://localhost:8080/"
        },
        "outputId": "e9cb1c93-d29d-4fd1-d3fd-544216fc674c"
      },
      "outputs": [
        {
          "output_type": "stream",
          "name": "stdout",
          "text": [
            "The saved weights already exists\n",
            "Loading Base Model...\n",
            "Weights loaded successfully!\n",
            "Model: \"ASTROMER\"\n",
            "__________________________________________________________________________________________________\n",
            " Layer (type)                   Output Shape         Param #     Connected to                     \n",
            "==================================================================================================\n",
            " input (InputLayer)             [(None, 200, 1)]     0           []                               \n",
            "                                                                                                  \n",
            " length (InputLayer)            [(None, 200)]        0           []                               \n",
            "                                                                                                  \n",
            " mask (InputLayer)              [(None, 200, 1)]     0           []                               \n",
            "                                                                                                  \n",
            " times (InputLayer)             [(None, 200, 1)]     0           []                               \n",
            "                                                                                                  \n",
            " encoder (Encoder)              (None, None, 256)    660736      ['input[0][0]',                  \n",
            "                                                                  'length[0][0]',                 \n",
            "                                                                  'mask[0][0]',                   \n",
            "                                                                  'times[0][0]']                  \n",
            "                                                                                                  \n",
            " regression (RegLayer)          (None, None, 1)      769         ['encoder[0][0]']                \n",
            "                                                                                                  \n",
            "==================================================================================================\n",
            "Total params: 661,505\n",
            "Trainable params: 769\n",
            "Non-trainable params: 660,736\n",
            "__________________________________________________________________________________________________\n"
          ]
        }
      ],
      "source": [
        "# Get model\n",
        "astromer = ASTROMER(num_layers=2,\n",
        "                        num_heads=4,\n",
        "                        dff=128,\n",
        "                        base=1000,\n",
        "                        dropout=0.1,\n",
        "                        maxlen=200,\n",
        "                        no_train=True,\n",
        "                        pretrained_weights=\"macho\")\n",
        "astromer.get_model().summary()"
      ]
    },
    {
      "cell_type": "markdown",
      "metadata": {
        "id": "UZJ4OoX3F0vN"
      },
      "source": [
        "##### *Load the data*"
      ]
    },
    {
      "cell_type": "code",
      "execution_count": 5,
      "metadata": {
        "id": "m5QW2-epkMbf",
        "colab": {
          "base_uri": "https://localhost:8080/"
        },
        "outputId": "b5351ecb-9c32-4da1-ba13-28fa5a71628d"
      },
      "outputs": [
        {
          "output_type": "stream",
          "name": "stdout",
          "text": [
            "[INFO] Shuffling\n"
          ]
        }
      ],
      "source": [
        "os.makedirs('/content/Ogle', exist_ok = True)\n",
        "# Make sure we don't overwrite a previous training\n",
        "dir = get_folder_name(\"/content/Ogle/runs\", prefix='')\n",
        "\n",
        "# Creating directory\n",
        "os.makedirs(dir, exist_ok=True)\n",
        "\n",
        "# Loading data\n",
        "train_batches = pretraining_data(os.path.join(\"/content/drive/Shareddrives/AstroMer/public/records/ogle_500\", 'train'),\n",
        "                                    256,\n",
        "                                    max_obs=200,\n",
        "                                    shuffle=True,\n",
        "                                    msk_frac=0.5,\n",
        "                                    rnd_frac=0.2,\n",
        "                                    same_frac=0.2)\n",
        "valid_batches = pretraining_data(os.path.join(\"/content/drive/Shareddrives/AstroMer/public/records/ogle_500\", 'val'),\n",
        "                                    256,\n",
        "                                    max_obs=200,\n",
        "                                    shuffle=False,\n",
        "                                    msk_frac=0.5,\n",
        "                                    rnd_frac=0.2,\n",
        "                                    same_frac=0.2)"
      ]
    },
    {
      "cell_type": "markdown",
      "metadata": {
        "id": "MDe8iYUvF5bw"
      },
      "source": [
        "##### *Finetune Astromer*"
      ]
    },
    {
      "cell_type": "code",
      "execution_count": 6,
      "metadata": {
        "colab": {
          "base_uri": "https://localhost:8080/"
        },
        "id": "xCkMqhrrmPkH",
        "outputId": "099f9692-4adc-4040-e643-558d81623de8"
      },
      "outputs": [
        {
          "output_type": "stream",
          "name": "stderr",
          "text": [
            "EPOCH 99 - ES COUNT: 2.0/25 train mse: 0.1031 - val mse: 0.0949: 100%|██████████| 100/100 [1:35:08<00:00, 57.09s/it]\n"
          ]
        }
      ],
      "source": [
        "# Training ASTROMER\n",
        "astromer.train(train_batches, valid_batches,\n",
        "      patience=25,\n",
        "      exp_path=dir,\n",
        "      epochs=100,\n",
        "      lr=0.001,\n",
        "      verbose=1)"
      ]
    }
  ],
  "metadata": {
    "colab": {
      "collapsed_sections": [],
      "name": "Tutorial - finetuning_astromer.ipynb",
      "provenance": []
    },
    "kernelspec": {
      "display_name": "Python 3",
      "name": "python3"
    },
    "language_info": {
      "name": "python"
    }
  },
  "nbformat": 4,
  "nbformat_minor": 0
}