{
  "nbformat": 4,
  "nbformat_minor": 0,
  "metadata": {
    "colab": {
      "name": "Tutorial - classification_astromer",
      "provenance": [],
      "collapsed_sections": []
    },
    "kernelspec": {
      "name": "python3",
      "display_name": "Python 3"
    },
    "language_info": {
      "name": "python"
    },
    "accelerator": "GPU"
  },
  "cells": [
    {
      "cell_type": "markdown",
      "source": [
        "[![Open In Colab](https://colab.research.google.com/assets/colab-badge.svg)](https://colab.research.google.com/github/Niegil-Francis/astromer_notebooks/blob/main/Tutorial_classification_astromer.ipynb)"
      ],
      "metadata": {
        "id": "SuB1D96zFgxH"
      }
    },
    {
      "cell_type": "markdown",
      "source": [
        "# Tutorial - Classification using Astromer"
      ],
      "metadata": {
        "id": "KpfCWH_nDV-N"
      }
    },
    {
      "cell_type": "markdown",
      "source": [
        "This tutorial will go through the steps required to perform classification using [Astromer](https://www.stellardnn.org/astromer/pages/about_astromer.html)."
      ],
      "metadata": {
        "id": "R3UnR940RSNF"
      }
    },
    {
      "cell_type": "markdown",
      "source": [
        "##### *Install the library*"
      ],
      "metadata": {
        "id": "XMKmGgw-R3n2"
      }
    },
    {
      "cell_type": "code",
      "execution_count": 1,
      "metadata": {
        "id": "caIjzdexoqPi"
      },
      "outputs": [],
      "source": [
        "%%capture\n",
        "!pip install test_model_hv"
      ]
    },
    {
      "cell_type": "markdown",
      "source": [
        "##### *Mount the drive containing the custom dataset*"
      ],
      "metadata": {
        "id": "6FjhfZUqSS4F"
      }
    },
    {
      "cell_type": "code",
      "source": [
        "from google.colab import drive\n",
        "drive.mount('/content/drive/') "
      ],
      "metadata": {
        "id": "o8NCKIMIpbez",
        "colab": {
          "base_uri": "https://localhost:8080/"
        },
        "outputId": "0c1ebaf6-2a98-4093-ca96-469bdf52e8e7"
      },
      "execution_count": 3,
      "outputs": [
        {
          "output_type": "stream",
          "name": "stdout",
          "text": [
            "Mounted at /content/drive/\n"
          ]
        }
      ]
    },
    {
      "cell_type": "markdown",
      "source": [
        "##### *Import the necessary modules*"
      ],
      "metadata": {
        "id": "8Z7dDcaWSb0v"
      }
    },
    {
      "cell_type": "code",
      "execution_count": 4,
      "metadata": {
        "id": "uolj-uHIhR3n"
      },
      "outputs": [],
      "source": [
        "from core.astromer import ASTROMER \n",
        "from core.data import pretraining_data\n",
        "from core.utils import get_folder_name\n",
        "from sklearn.metrics import r2_score\n",
        "import matplotlib.pyplot as plt\n",
        "import tensorflow as tf\n",
        "import json\n",
        "import os\n",
        "import warnings\n",
        "import numpy as np\n",
        "import pandas as pd\n",
        "import argparse\n",
        "import logging\n",
        "import time\n",
        "import os\n",
        "from time import gmtime, strftime\n",
        "from tensorflow.keras.losses import CategoricalCrossentropy, SparseCategoricalCrossentropy\n",
        "from tensorflow.keras.layers import LSTM, Dense, BatchNormalization, InputLayer, LayerNormalization\n",
        "from tensorflow.keras.optimizers import Adam, RMSprop\n",
        "from tensorflow.keras.callbacks import TensorBoard, EarlyStopping, ModelCheckpoint\n",
        "from tensorflow.keras import Model, Input\n",
        "warnings.filterwarnings(\"ignore\")"
      ]
    },
    {
      "cell_type": "markdown",
      "source": [
        " ##### *Load tf records and labels of the custom dataset*"
      ],
      "metadata": {
        "id": "yz2V6NIkUqdX"
      }
    },
    {
      "cell_type": "code",
      "source": [
        "train_data = pretraining_data(\"/content/drive/Shareddrives/AstroMer/public/records/ogle_500/train\",\n",
        "                                batch_size = 256,\n",
        "                                shuffle=True,\n",
        "                                max_obs=200,\n",
        "                                msk_frac=0.5, \n",
        "                                rnd_frac=0.2, \n",
        "                                same_frac=0.2,\n",
        "                                mode = 'clf')\n",
        "\n",
        "val_data = pretraining_data(\"/content/drive/Shareddrives/AstroMer/public/records/ogle_500/val\",\n",
        "                                batch_size = 256,\n",
        "                                shuffle=True,\n",
        "                                max_obs=200,\n",
        "                                msk_frac=0.5, \n",
        "                                rnd_frac=0.2, \n",
        "                                same_frac=0.2,\n",
        "                                mode = 'clf')\n",
        "\n",
        "test_data = pretraining_data(\"/content/drive/Shareddrives/AstroMer/public/records/ogle_500/test\",\n",
        "                                batch_size = 256,\n",
        "                                shuffle=True,\n",
        "                                max_obs=200,\n",
        "                                msk_frac=0.5, \n",
        "                                rnd_frac=0.2, \n",
        "                                same_frac=0.2,\n",
        "                                mode = 'clf')\n",
        "\n",
        "label_dict = pd.read_csv(\"/content/drive/Shareddrives/AstroMer/public/records/ogle_500/objects.csv\")['label'].to_dict()"
      ],
      "metadata": {
        "id": "mIraT0OTdrW3",
        "colab": {
          "base_uri": "https://localhost:8080/"
        },
        "outputId": "80da87b5-8344-48a7-f108-63d85d2f6788"
      },
      "execution_count": 5,
      "outputs": [
        {
          "output_type": "stream",
          "name": "stdout",
          "text": [
            "[INFO] Shuffling\n",
            "[INFO] Shuffling\n",
            "[INFO] Shuffling\n"
          ]
        }
      ]
    },
    {
      "cell_type": "markdown",
      "source": [
        "##### *Add the dense and softmax layers required for classification on top of the encoder to define an MLP+ATT model structure*"
      ],
      "metadata": {
        "id": "coo2D8tn3iAi"
      }
    },
    {
      "cell_type": "code",
      "source": [
        "def get_mlp_backprop(num_classes, maxlen=200):\n",
        "    ''' FC + ATT'''\n",
        "    inputs = {\n",
        "    'input': Input(shape=(maxlen, 1), name='input'),\n",
        "    'times': Input(shape=(maxlen, 1), name='times'),\n",
        "    'mask_in': Input(shape=(maxlen, 1), name='mask'),\n",
        "    }\n",
        "\n",
        "    model = ASTROMER(pretrained_weights=\"macho\",  overwrite = True).get_model()\n",
        "\n",
        "    \n",
        "    model.trainable=True\n",
        "    encoder = model.get_layer('encoder')\n",
        "\n",
        "    m = tf.cast(1.-inputs['mask_in'][...,0], tf.bool)\n",
        "    x = encoder(inputs)\n",
        "    x = tf.ragged.boolean_mask(x, m)\n",
        "    x = tf.reduce_mean(x, 1)\n",
        "\n",
        "    x = Dense(1024, activation='relu', use_bias=False)(x)\n",
        "    x = BatchNormalization()(x)\n",
        "    x = Dense(512, activation='relu', use_bias=False)(x)\n",
        "    x = BatchNormalization()(x)\n",
        "    x = Dense(256, activation='relu', use_bias=False)(x)\n",
        "    x = BatchNormalization()(x)\n",
        "    x = Dense(num_classes, activation='softmax')(x)\n",
        "    return Model(inputs=inputs, outputs=x, name=\"MLP_ATT\")"
      ],
      "metadata": {
        "id": "B0ZTxHIF6xpe"
      },
      "execution_count": 6,
      "outputs": []
    },
    {
      "cell_type": "code",
      "source": [
        "# Get the number of classes to pass into the function defined above\n",
        "classes = len(label_dict)"
      ],
      "metadata": {
        "id": "fy9vYp_R7MHp"
      },
      "execution_count": 7,
      "outputs": []
    },
    {
      "cell_type": "markdown",
      "source": [
        "##### *Load the model*"
      ],
      "metadata": {
        "id": "AjNLBx9p34Iz"
      }
    },
    {
      "cell_type": "code",
      "source": [
        "model_MLP = get_mlp_backprop(classes)\n",
        "model_MLP.summary()"
      ],
      "metadata": {
        "id": "aenoWxo77UPz",
        "colab": {
          "base_uri": "https://localhost:8080/"
        },
        "outputId": "95e78986-d48d-4def-a3c7-e9f9ceb4411b"
      },
      "execution_count": 8,
      "outputs": [
        {
          "output_type": "stream",
          "name": "stdout",
          "text": [
            "Loading Base Model...\n",
            "Weights loaded successfully!\n",
            "Model: \"MLP_ATT\"\n",
            "__________________________________________________________________________________________________\n",
            " Layer (type)                   Output Shape         Param #     Connected to                     \n",
            "==================================================================================================\n",
            " mask (InputLayer)              [(None, 200, 1)]     0           []                               \n",
            "                                                                                                  \n",
            " tf.__operators__.getitem (Slic  (None, 200)         0           ['mask[0][0]']                   \n",
            " ingOpLambda)                                                                                     \n",
            "                                                                                                  \n",
            " tf.math.subtract (TFOpLambda)  (None, 200)          0           ['tf.__operators__.getitem[0][0]'\n",
            "                                                                 ]                                \n",
            "                                                                                                  \n",
            " input (InputLayer)             [(None, 200, 1)]     0           []                               \n",
            "                                                                                                  \n",
            " times (InputLayer)             [(None, 200, 1)]     0           []                               \n",
            "                                                                                                  \n",
            " tf.cast (TFOpLambda)           (None, 200)          0           ['tf.math.subtract[0][0]']       \n",
            "                                                                                                  \n",
            " encoder (Encoder)              (None, None, 256)    660736      ['input[0][0]',                  \n",
            "                                                                  'mask[0][0]',                   \n",
            "                                                                  'times[0][0]']                  \n",
            "                                                                                                  \n",
            " tf.convert_to_tensor_1 (TFOpLa  (None, 200)         0           ['tf.cast[0][0]']                \n",
            " mbda)                                                                                            \n",
            "                                                                                                  \n",
            " tf.convert_to_tensor (TFOpLamb  (None, None, 256)   0           ['encoder[1][0]']                \n",
            " da)                                                                                              \n",
            "                                                                                                  \n",
            " tf.math.count_nonzero (TFOpLam  (None,)             0           ['tf.convert_to_tensor_1[0][0]'] \n",
            " bda)                                                                                             \n",
            "                                                                                                  \n",
            " tf.compat.v1.boolean_mask (Sli  (None, 256)         0           ['tf.convert_to_tensor[0][0]',   \n",
            " cingOpLambda)                                                    'tf.convert_to_tensor_1[0][0]'] \n",
            "                                                                                                  \n",
            " tf.reshape (TFOpLambda)        (None,)              0           ['tf.math.count_nonzero[0][0]']  \n",
            "                                                                                                  \n",
            " tf.RaggedTensor.from_row_lengt  (None, None, 256)   0           ['tf.compat.v1.boolean_mask[0][0]\n",
            " hs (ClassMethod)                                                ',                               \n",
            "                                                                  'tf.reshape[0][0]']             \n",
            "                                                                                                  \n",
            " tf.math.reduce_mean (TFOpLambd  (None, 256)         0           ['tf.RaggedTensor.from_row_length\n",
            " a)                                                              s[0][0]']                        \n",
            "                                                                                                  \n",
            " dense_5 (Dense)                (None, 1024)         262144      ['tf.math.reduce_mean[0][0]']    \n",
            "                                                                                                  \n",
            " batch_normalization (BatchNorm  (None, 1024)        4096        ['dense_5[0][0]']                \n",
            " alization)                                                                                       \n",
            "                                                                                                  \n",
            " dense_6 (Dense)                (None, 512)          524288      ['batch_normalization[0][0]']    \n",
            "                                                                                                  \n",
            " batch_normalization_1 (BatchNo  (None, 512)         2048        ['dense_6[0][0]']                \n",
            " rmalization)                                                                                     \n",
            "                                                                                                  \n",
            " dense_7 (Dense)                (None, 256)          131072      ['batch_normalization_1[0][0]']  \n",
            "                                                                                                  \n",
            " batch_normalization_2 (BatchNo  (None, 256)         1024        ['dense_7[0][0]']                \n",
            " rmalization)                                                                                     \n",
            "                                                                                                  \n",
            " dense_8 (Dense)                (None, 10)           2570        ['batch_normalization_2[0][0]']  \n",
            "                                                                                                  \n",
            "==================================================================================================\n",
            "Total params: 1,587,978\n",
            "Trainable params: 1,584,394\n",
            "Non-trainable params: 3,584\n",
            "__________________________________________________________________________________________________\n"
          ]
        }
      ]
    },
    {
      "cell_type": "markdown",
      "source": [
        "##### *Train the model*"
      ],
      "metadata": {
        "id": "0kEGzAF14Fcr"
      }
    },
    {
      "cell_type": "code",
      "source": [
        "estop = EarlyStopping(\n",
        "    monitor='val_accuracy',\n",
        "    min_delta=0,\n",
        "    patience=50,\n",
        "    mode='auto',\n",
        "    restore_best_weights=True)"
      ],
      "metadata": {
        "id": "KLnk-s_K7U2c"
      },
      "execution_count": 9,
      "outputs": []
    },
    {
      "cell_type": "code",
      "source": [
        "optimizer = Adam(learning_rate=5e-4)\n",
        "\n",
        "model_MLP.compile(optimizer=optimizer,\n",
        "              loss=SparseCategoricalCrossentropy(),\n",
        "              metrics='accuracy')\n"
      ],
      "metadata": {
        "id": "gSDQuPqd725S"
      },
      "execution_count": 10,
      "outputs": []
    },
    {
      "cell_type": "code",
      "source": [
        "hist = model_MLP.fit(train_data, \n",
        "                 epochs=500,\n",
        "                 validation_data=val_data ,\n",
        "                 callbacks=[estop],\n",
        "                 verbose=0)"
      ],
      "metadata": {
        "id": "fRO1hth377tP",
        "colab": {
          "base_uri": "https://localhost:8080/"
        },
        "outputId": "b1128a29-ba18-4d7d-a244-4e621a97440a",
        "collapsed": true
      },
      "execution_count": 11,
      "outputs": [
        {
          "output_type": "stream",
          "name": "stdout",
          "text": [
            "Epoch 1/500\n",
            "12/12 [==============================] - 20s 701ms/step - loss: 2.0958 - accuracy: 0.3103 - val_loss: 2.8142 - val_accuracy: 0.1000\n",
            "Epoch 2/500\n",
            "12/12 [==============================] - 3s 277ms/step - loss: 1.6847 - accuracy: 0.4067 - val_loss: 2.8381 - val_accuracy: 0.1067\n",
            "Epoch 3/500\n",
            "12/12 [==============================] - 3s 277ms/step - loss: 1.5308 - accuracy: 0.4520 - val_loss: 2.6910 - val_accuracy: 0.1307\n",
            "Epoch 4/500\n",
            "12/12 [==============================] - 3s 273ms/step - loss: 1.4382 - accuracy: 0.4793 - val_loss: 2.4944 - val_accuracy: 0.1213\n",
            "Epoch 5/500\n",
            "12/12 [==============================] - 3s 278ms/step - loss: 1.3836 - accuracy: 0.5037 - val_loss: 2.5807 - val_accuracy: 0.1300\n",
            "Epoch 6/500\n",
            "12/12 [==============================] - 3s 273ms/step - loss: 1.3218 - accuracy: 0.5197 - val_loss: 2.4846 - val_accuracy: 0.1353\n",
            "Epoch 7/500\n",
            "12/12 [==============================] - 3s 273ms/step - loss: 1.2804 - accuracy: 0.5290 - val_loss: 2.2787 - val_accuracy: 0.1540\n",
            "Epoch 8/500\n",
            "12/12 [==============================] - 3s 274ms/step - loss: 1.2470 - accuracy: 0.5437 - val_loss: 2.2002 - val_accuracy: 0.1773\n",
            "Epoch 9/500\n",
            "12/12 [==============================] - 3s 278ms/step - loss: 1.2292 - accuracy: 0.5513 - val_loss: 2.1333 - val_accuracy: 0.1927\n",
            "Epoch 10/500\n",
            "12/12 [==============================] - 3s 277ms/step - loss: 1.1952 - accuracy: 0.5610 - val_loss: 1.9264 - val_accuracy: 0.2733\n",
            "Epoch 11/500\n",
            "12/12 [==============================] - 3s 277ms/step - loss: 1.1709 - accuracy: 0.5673 - val_loss: 1.7830 - val_accuracy: 0.3100\n",
            "Epoch 12/500\n",
            "12/12 [==============================] - 4s 305ms/step - loss: 1.1654 - accuracy: 0.5767 - val_loss: 1.7900 - val_accuracy: 0.2987\n",
            "Epoch 13/500\n",
            "12/12 [==============================] - 3s 275ms/step - loss: 1.1122 - accuracy: 0.5853 - val_loss: 1.7187 - val_accuracy: 0.3287\n",
            "Epoch 14/500\n",
            "12/12 [==============================] - 3s 276ms/step - loss: 1.1170 - accuracy: 0.5970 - val_loss: 1.5480 - val_accuracy: 0.4140\n",
            "Epoch 15/500\n",
            "12/12 [==============================] - 3s 275ms/step - loss: 1.0886 - accuracy: 0.6020 - val_loss: 1.5655 - val_accuracy: 0.4153\n",
            "Epoch 16/500\n",
            "12/12 [==============================] - 3s 276ms/step - loss: 1.0682 - accuracy: 0.6197 - val_loss: 1.5075 - val_accuracy: 0.4373\n",
            "Epoch 17/500\n",
            "12/12 [==============================] - 3s 277ms/step - loss: 1.0504 - accuracy: 0.6280 - val_loss: 1.4208 - val_accuracy: 0.4667\n",
            "Epoch 18/500\n",
            "12/12 [==============================] - 3s 277ms/step - loss: 1.0356 - accuracy: 0.6303 - val_loss: 1.3760 - val_accuracy: 0.4973\n",
            "Epoch 19/500\n",
            "12/12 [==============================] - 3s 279ms/step - loss: 1.0101 - accuracy: 0.6370 - val_loss: 1.3599 - val_accuracy: 0.5287\n",
            "Epoch 20/500\n",
            "12/12 [==============================] - 3s 278ms/step - loss: 1.0118 - accuracy: 0.6387 - val_loss: 1.3139 - val_accuracy: 0.5140\n",
            "Epoch 21/500\n",
            "12/12 [==============================] - 3s 280ms/step - loss: 1.0022 - accuracy: 0.6307 - val_loss: 1.3300 - val_accuracy: 0.5320\n",
            "Epoch 22/500\n",
            "12/12 [==============================] - 3s 278ms/step - loss: 0.9746 - accuracy: 0.6410 - val_loss: 1.4331 - val_accuracy: 0.4793\n",
            "Epoch 23/500\n",
            "12/12 [==============================] - 3s 278ms/step - loss: 0.9672 - accuracy: 0.6460 - val_loss: 1.2719 - val_accuracy: 0.5447\n",
            "Epoch 24/500\n",
            "12/12 [==============================] - 3s 275ms/step - loss: 0.9499 - accuracy: 0.6587 - val_loss: 1.1751 - val_accuracy: 0.5987\n",
            "Epoch 25/500\n",
            "12/12 [==============================] - 3s 274ms/step - loss: 0.9296 - accuracy: 0.6650 - val_loss: 1.1630 - val_accuracy: 0.5940\n",
            "Epoch 26/500\n",
            "12/12 [==============================] - 3s 274ms/step - loss: 0.9300 - accuracy: 0.6623 - val_loss: 1.3046 - val_accuracy: 0.5540\n",
            "Epoch 27/500\n",
            "12/12 [==============================] - 3s 276ms/step - loss: 0.9031 - accuracy: 0.6647 - val_loss: 1.3194 - val_accuracy: 0.5720\n",
            "Epoch 28/500\n",
            "12/12 [==============================] - 3s 276ms/step - loss: 0.8899 - accuracy: 0.6827 - val_loss: 1.2913 - val_accuracy: 0.5707\n",
            "Epoch 29/500\n",
            "12/12 [==============================] - 3s 278ms/step - loss: 0.8695 - accuracy: 0.6820 - val_loss: 1.1128 - val_accuracy: 0.6313\n",
            "Epoch 30/500\n",
            "12/12 [==============================] - 3s 276ms/step - loss: 0.8578 - accuracy: 0.6920 - val_loss: 1.1337 - val_accuracy: 0.6340\n",
            "Epoch 31/500\n",
            "12/12 [==============================] - 3s 275ms/step - loss: 0.8396 - accuracy: 0.7047 - val_loss: 1.2153 - val_accuracy: 0.6493\n",
            "Epoch 32/500\n",
            "12/12 [==============================] - 3s 276ms/step - loss: 0.8448 - accuracy: 0.6877 - val_loss: 1.1773 - val_accuracy: 0.6333\n",
            "Epoch 33/500\n",
            "12/12 [==============================] - 3s 275ms/step - loss: 0.8488 - accuracy: 0.6983 - val_loss: 1.1909 - val_accuracy: 0.6273\n",
            "Epoch 34/500\n",
            "12/12 [==============================] - 3s 275ms/step - loss: 0.8254 - accuracy: 0.6943 - val_loss: 1.0635 - val_accuracy: 0.6473\n",
            "Epoch 35/500\n",
            "12/12 [==============================] - 3s 278ms/step - loss: 0.7688 - accuracy: 0.7207 - val_loss: 1.0436 - val_accuracy: 0.6500\n",
            "Epoch 36/500\n",
            "12/12 [==============================] - 3s 280ms/step - loss: 0.7778 - accuracy: 0.7147 - val_loss: 1.1104 - val_accuracy: 0.6573\n",
            "Epoch 37/500\n",
            "12/12 [==============================] - 3s 277ms/step - loss: 0.7719 - accuracy: 0.7177 - val_loss: 1.1774 - val_accuracy: 0.6453\n",
            "Epoch 38/500\n",
            "12/12 [==============================] - 3s 275ms/step - loss: 0.7602 - accuracy: 0.7230 - val_loss: 1.2606 - val_accuracy: 0.6480\n",
            "Epoch 39/500\n",
            "12/12 [==============================] - 3s 276ms/step - loss: 0.7335 - accuracy: 0.7270 - val_loss: 1.0982 - val_accuracy: 0.6700\n",
            "Epoch 40/500\n",
            "12/12 [==============================] - 3s 276ms/step - loss: 0.7442 - accuracy: 0.7083 - val_loss: 1.1472 - val_accuracy: 0.6687\n",
            "Epoch 41/500\n",
            "12/12 [==============================] - 3s 278ms/step - loss: 0.7386 - accuracy: 0.7280 - val_loss: 1.1327 - val_accuracy: 0.6487\n",
            "Epoch 42/500\n",
            "12/12 [==============================] - 3s 281ms/step - loss: 0.7109 - accuracy: 0.7367 - val_loss: 1.0607 - val_accuracy: 0.6807\n",
            "Epoch 43/500\n",
            "12/12 [==============================] - 3s 275ms/step - loss: 0.6971 - accuracy: 0.7420 - val_loss: 1.1395 - val_accuracy: 0.6487\n",
            "Epoch 44/500\n",
            "12/12 [==============================] - 3s 274ms/step - loss: 0.6945 - accuracy: 0.7470 - val_loss: 1.0278 - val_accuracy: 0.6827\n",
            "Epoch 45/500\n",
            "12/12 [==============================] - 3s 278ms/step - loss: 0.6873 - accuracy: 0.7457 - val_loss: 1.1505 - val_accuracy: 0.6553\n",
            "Epoch 46/500\n",
            "12/12 [==============================] - 3s 278ms/step - loss: 0.6809 - accuracy: 0.7437 - val_loss: 1.2610 - val_accuracy: 0.6687\n",
            "Epoch 47/500\n",
            "12/12 [==============================] - 3s 278ms/step - loss: 0.7029 - accuracy: 0.7383 - val_loss: 1.1150 - val_accuracy: 0.6920\n",
            "Epoch 48/500\n",
            "12/12 [==============================] - 3s 277ms/step - loss: 0.6936 - accuracy: 0.7460 - val_loss: 1.1044 - val_accuracy: 0.6827\n",
            "Epoch 49/500\n",
            "12/12 [==============================] - 3s 274ms/step - loss: 0.6723 - accuracy: 0.7483 - val_loss: 1.0539 - val_accuracy: 0.6867\n",
            "Epoch 50/500\n",
            "12/12 [==============================] - 3s 276ms/step - loss: 0.6457 - accuracy: 0.7593 - val_loss: 1.1180 - val_accuracy: 0.6693\n",
            "Epoch 51/500\n",
            "12/12 [==============================] - 3s 275ms/step - loss: 0.6331 - accuracy: 0.7633 - val_loss: 1.1497 - val_accuracy: 0.6660\n",
            "Epoch 52/500\n",
            "12/12 [==============================] - 3s 277ms/step - loss: 0.6297 - accuracy: 0.7657 - val_loss: 1.1651 - val_accuracy: 0.6487\n",
            "Epoch 53/500\n",
            "12/12 [==============================] - 3s 275ms/step - loss: 0.6180 - accuracy: 0.7623 - val_loss: 1.2835 - val_accuracy: 0.6293\n",
            "Epoch 54/500\n",
            "12/12 [==============================] - 3s 275ms/step - loss: 0.6218 - accuracy: 0.7633 - val_loss: 1.3353 - val_accuracy: 0.6120\n",
            "Epoch 55/500\n",
            "12/12 [==============================] - 3s 275ms/step - loss: 0.6090 - accuracy: 0.7750 - val_loss: 1.3401 - val_accuracy: 0.6180\n",
            "Epoch 56/500\n",
            "12/12 [==============================] - 3s 276ms/step - loss: 0.5891 - accuracy: 0.7790 - val_loss: 1.4959 - val_accuracy: 0.6000\n",
            "Epoch 57/500\n",
            "12/12 [==============================] - 3s 275ms/step - loss: 0.5823 - accuracy: 0.7743 - val_loss: 1.1399 - val_accuracy: 0.6640\n",
            "Epoch 58/500\n",
            "12/12 [==============================] - 3s 274ms/step - loss: 0.5782 - accuracy: 0.7807 - val_loss: 1.1014 - val_accuracy: 0.6660\n",
            "Epoch 59/500\n",
            "12/12 [==============================] - 3s 275ms/step - loss: 0.5863 - accuracy: 0.7790 - val_loss: 1.1654 - val_accuracy: 0.6647\n",
            "Epoch 60/500\n",
            "12/12 [==============================] - 3s 274ms/step - loss: 0.5820 - accuracy: 0.7793 - val_loss: 1.1713 - val_accuracy: 0.6820\n",
            "Epoch 61/500\n",
            "12/12 [==============================] - 3s 277ms/step - loss: 0.5585 - accuracy: 0.7840 - val_loss: 1.1532 - val_accuracy: 0.6893\n",
            "Epoch 62/500\n",
            "12/12 [==============================] - 3s 277ms/step - loss: 0.5711 - accuracy: 0.7910 - val_loss: 1.0476 - val_accuracy: 0.6987\n",
            "Epoch 63/500\n",
            "12/12 [==============================] - 3s 278ms/step - loss: 0.5512 - accuracy: 0.7900 - val_loss: 1.1167 - val_accuracy: 0.6860\n",
            "Epoch 64/500\n",
            "12/12 [==============================] - 3s 281ms/step - loss: 0.5473 - accuracy: 0.7890 - val_loss: 1.1830 - val_accuracy: 0.6673\n",
            "Epoch 65/500\n",
            "12/12 [==============================] - 3s 279ms/step - loss: 0.5290 - accuracy: 0.7933 - val_loss: 1.5247 - val_accuracy: 0.5933\n",
            "Epoch 66/500\n",
            "12/12 [==============================] - 3s 279ms/step - loss: 0.5413 - accuracy: 0.7983 - val_loss: 1.1744 - val_accuracy: 0.6500\n",
            "Epoch 67/500\n",
            "12/12 [==============================] - 3s 278ms/step - loss: 0.5021 - accuracy: 0.8067 - val_loss: 1.2278 - val_accuracy: 0.6333\n",
            "Epoch 68/500\n",
            "12/12 [==============================] - 3s 275ms/step - loss: 0.5218 - accuracy: 0.8003 - val_loss: 1.1678 - val_accuracy: 0.6793\n",
            "Epoch 69/500\n",
            "12/12 [==============================] - 3s 277ms/step - loss: 0.5084 - accuracy: 0.8143 - val_loss: 1.2504 - val_accuracy: 0.6500\n",
            "Epoch 70/500\n",
            "12/12 [==============================] - 3s 278ms/step - loss: 0.5044 - accuracy: 0.8123 - val_loss: 1.1947 - val_accuracy: 0.6760\n",
            "Epoch 71/500\n",
            "12/12 [==============================] - 3s 276ms/step - loss: 0.4980 - accuracy: 0.8083 - val_loss: 1.2033 - val_accuracy: 0.6733\n",
            "Epoch 72/500\n",
            "12/12 [==============================] - 3s 277ms/step - loss: 0.4981 - accuracy: 0.8120 - val_loss: 1.4086 - val_accuracy: 0.6247\n",
            "Epoch 73/500\n",
            "12/12 [==============================] - 3s 279ms/step - loss: 0.5207 - accuracy: 0.8023 - val_loss: 1.3577 - val_accuracy: 0.6227\n",
            "Epoch 74/500\n",
            "12/12 [==============================] - 3s 276ms/step - loss: 0.4993 - accuracy: 0.8107 - val_loss: 1.1065 - val_accuracy: 0.6813\n",
            "Epoch 75/500\n",
            "12/12 [==============================] - 3s 277ms/step - loss: 0.4841 - accuracy: 0.8210 - val_loss: 1.1286 - val_accuracy: 0.6873\n",
            "Epoch 76/500\n",
            "12/12 [==============================] - 3s 278ms/step - loss: 0.5049 - accuracy: 0.8067 - val_loss: 1.0872 - val_accuracy: 0.7027\n",
            "Epoch 77/500\n",
            "12/12 [==============================] - 3s 276ms/step - loss: 0.4899 - accuracy: 0.8063 - val_loss: 1.2355 - val_accuracy: 0.6847\n",
            "Epoch 78/500\n",
            "12/12 [==============================] - 3s 279ms/step - loss: 0.4701 - accuracy: 0.8210 - val_loss: 1.1732 - val_accuracy: 0.6853\n",
            "Epoch 79/500\n",
            "12/12 [==============================] - 3s 278ms/step - loss: 0.4599 - accuracy: 0.8277 - val_loss: 1.1709 - val_accuracy: 0.6707\n",
            "Epoch 80/500\n",
            "12/12 [==============================] - 3s 277ms/step - loss: 0.4704 - accuracy: 0.8127 - val_loss: 1.1545 - val_accuracy: 0.6787\n",
            "Epoch 81/500\n",
            "12/12 [==============================] - 3s 276ms/step - loss: 0.4546 - accuracy: 0.8237 - val_loss: 1.0625 - val_accuracy: 0.6893\n",
            "Epoch 82/500\n",
            "12/12 [==============================] - 3s 275ms/step - loss: 0.4437 - accuracy: 0.8317 - val_loss: 1.1052 - val_accuracy: 0.6753\n",
            "Epoch 83/500\n",
            "12/12 [==============================] - 3s 276ms/step - loss: 0.4427 - accuracy: 0.8253 - val_loss: 1.1592 - val_accuracy: 0.6540\n",
            "Epoch 84/500\n",
            "12/12 [==============================] - 3s 277ms/step - loss: 0.4611 - accuracy: 0.8210 - val_loss: 1.2880 - val_accuracy: 0.6507\n",
            "Epoch 85/500\n",
            "12/12 [==============================] - 3s 277ms/step - loss: 0.4568 - accuracy: 0.8253 - val_loss: 1.0961 - val_accuracy: 0.6787\n",
            "Epoch 86/500\n",
            "12/12 [==============================] - 3s 275ms/step - loss: 0.4465 - accuracy: 0.8283 - val_loss: 1.1782 - val_accuracy: 0.6793\n",
            "Epoch 87/500\n",
            "12/12 [==============================] - 3s 276ms/step - loss: 0.4596 - accuracy: 0.8310 - val_loss: 1.3563 - val_accuracy: 0.6673\n",
            "Epoch 88/500\n",
            "12/12 [==============================] - 3s 275ms/step - loss: 0.4242 - accuracy: 0.8410 - val_loss: 1.3313 - val_accuracy: 0.6807\n",
            "Epoch 89/500\n",
            "12/12 [==============================] - 3s 278ms/step - loss: 0.4170 - accuracy: 0.8413 - val_loss: 1.0933 - val_accuracy: 0.7067\n",
            "Epoch 90/500\n",
            "12/12 [==============================] - 3s 277ms/step - loss: 0.4085 - accuracy: 0.8473 - val_loss: 1.1872 - val_accuracy: 0.6620\n",
            "Epoch 91/500\n",
            "12/12 [==============================] - 3s 276ms/step - loss: 0.4157 - accuracy: 0.8493 - val_loss: 1.3103 - val_accuracy: 0.6740\n",
            "Epoch 92/500\n",
            "12/12 [==============================] - 3s 276ms/step - loss: 0.4026 - accuracy: 0.8430 - val_loss: 1.1052 - val_accuracy: 0.6960\n",
            "Epoch 93/500\n",
            "12/12 [==============================] - 3s 280ms/step - loss: 0.4118 - accuracy: 0.8470 - val_loss: 1.5424 - val_accuracy: 0.6067\n",
            "Epoch 94/500\n",
            "12/12 [==============================] - 3s 279ms/step - loss: 0.4100 - accuracy: 0.8380 - val_loss: 1.3188 - val_accuracy: 0.6473\n",
            "Epoch 95/500\n",
            "12/12 [==============================] - 3s 278ms/step - loss: 0.3844 - accuracy: 0.8507 - val_loss: 1.2506 - val_accuracy: 0.6720\n",
            "Epoch 96/500\n",
            "12/12 [==============================] - 3s 278ms/step - loss: 0.3838 - accuracy: 0.8493 - val_loss: 1.0267 - val_accuracy: 0.7033\n",
            "Epoch 97/500\n",
            "12/12 [==============================] - 3s 274ms/step - loss: 0.3850 - accuracy: 0.8603 - val_loss: 1.1685 - val_accuracy: 0.6853\n",
            "Epoch 98/500\n",
            "12/12 [==============================] - 3s 274ms/step - loss: 0.3892 - accuracy: 0.8413 - val_loss: 1.1181 - val_accuracy: 0.7087\n",
            "Epoch 99/500\n",
            "12/12 [==============================] - 3s 272ms/step - loss: 0.3868 - accuracy: 0.8590 - val_loss: 1.3232 - val_accuracy: 0.6540\n",
            "Epoch 100/500\n",
            "12/12 [==============================] - 3s 276ms/step - loss: 0.3874 - accuracy: 0.8517 - val_loss: 1.2006 - val_accuracy: 0.6760\n",
            "Epoch 101/500\n",
            "12/12 [==============================] - 3s 278ms/step - loss: 0.3767 - accuracy: 0.8573 - val_loss: 1.2714 - val_accuracy: 0.6820\n",
            "Epoch 102/500\n",
            "12/12 [==============================] - 3s 276ms/step - loss: 0.3709 - accuracy: 0.8577 - val_loss: 1.3935 - val_accuracy: 0.6427\n",
            "Epoch 103/500\n",
            "12/12 [==============================] - 3s 277ms/step - loss: 0.3640 - accuracy: 0.8577 - val_loss: 1.5417 - val_accuracy: 0.6307\n",
            "Epoch 104/500\n",
            "12/12 [==============================] - 3s 274ms/step - loss: 0.3673 - accuracy: 0.8630 - val_loss: 1.1705 - val_accuracy: 0.6733\n",
            "Epoch 105/500\n",
            "12/12 [==============================] - 3s 279ms/step - loss: 0.3651 - accuracy: 0.8650 - val_loss: 1.3955 - val_accuracy: 0.6433\n",
            "Epoch 106/500\n",
            "12/12 [==============================] - 3s 278ms/step - loss: 0.3732 - accuracy: 0.8580 - val_loss: 1.2910 - val_accuracy: 0.6640\n",
            "Epoch 107/500\n",
            "12/12 [==============================] - 3s 275ms/step - loss: 0.3640 - accuracy: 0.8647 - val_loss: 1.4286 - val_accuracy: 0.6480\n",
            "Epoch 108/500\n",
            "12/12 [==============================] - 3s 277ms/step - loss: 0.3584 - accuracy: 0.8640 - val_loss: 1.2084 - val_accuracy: 0.6913\n",
            "Epoch 109/500\n",
            "12/12 [==============================] - 3s 278ms/step - loss: 0.3622 - accuracy: 0.8560 - val_loss: 1.9465 - val_accuracy: 0.5967\n",
            "Epoch 110/500\n",
            "12/12 [==============================] - 3s 277ms/step - loss: 0.3517 - accuracy: 0.8687 - val_loss: 1.5264 - val_accuracy: 0.6500\n",
            "Epoch 111/500\n",
            "12/12 [==============================] - 3s 276ms/step - loss: 0.3540 - accuracy: 0.8670 - val_loss: 1.3628 - val_accuracy: 0.6673\n",
            "Epoch 112/500\n",
            "12/12 [==============================] - 3s 276ms/step - loss: 0.3276 - accuracy: 0.8763 - val_loss: 1.3446 - val_accuracy: 0.6507\n",
            "Epoch 113/500\n",
            "12/12 [==============================] - 3s 278ms/step - loss: 0.3364 - accuracy: 0.8737 - val_loss: 1.4839 - val_accuracy: 0.6333\n",
            "Epoch 114/500\n",
            "12/12 [==============================] - 3s 278ms/step - loss: 0.3336 - accuracy: 0.8737 - val_loss: 1.4801 - val_accuracy: 0.6333\n",
            "Epoch 115/500\n",
            "12/12 [==============================] - 3s 275ms/step - loss: 0.3152 - accuracy: 0.8863 - val_loss: 1.2223 - val_accuracy: 0.6720\n",
            "Epoch 116/500\n",
            "12/12 [==============================] - 3s 274ms/step - loss: 0.3101 - accuracy: 0.8893 - val_loss: 1.3790 - val_accuracy: 0.6580\n",
            "Epoch 117/500\n",
            "12/12 [==============================] - 3s 274ms/step - loss: 0.3014 - accuracy: 0.8917 - val_loss: 1.3961 - val_accuracy: 0.6440\n",
            "Epoch 118/500\n",
            "12/12 [==============================] - 3s 276ms/step - loss: 0.3233 - accuracy: 0.8793 - val_loss: 1.3400 - val_accuracy: 0.6640\n",
            "Epoch 119/500\n",
            "12/12 [==============================] - 3s 274ms/step - loss: 0.3194 - accuracy: 0.8757 - val_loss: 1.4149 - val_accuracy: 0.6593\n",
            "Epoch 120/500\n",
            "12/12 [==============================] - 3s 277ms/step - loss: 0.3164 - accuracy: 0.8720 - val_loss: 1.2728 - val_accuracy: 0.6873\n",
            "Epoch 121/500\n",
            "12/12 [==============================] - 3s 275ms/step - loss: 0.3225 - accuracy: 0.8737 - val_loss: 1.5649 - val_accuracy: 0.6493\n",
            "Epoch 122/500\n",
            "12/12 [==============================] - 3s 275ms/step - loss: 0.3133 - accuracy: 0.8820 - val_loss: 1.8535 - val_accuracy: 0.6100\n",
            "Epoch 123/500\n",
            "12/12 [==============================] - 3s 275ms/step - loss: 0.3235 - accuracy: 0.8720 - val_loss: 1.3293 - val_accuracy: 0.6740\n",
            "Epoch 124/500\n",
            "12/12 [==============================] - 3s 277ms/step - loss: 0.3078 - accuracy: 0.8767 - val_loss: 1.3657 - val_accuracy: 0.6713\n",
            "Epoch 125/500\n",
            "12/12 [==============================] - 3s 274ms/step - loss: 0.3108 - accuracy: 0.8797 - val_loss: 1.2955 - val_accuracy: 0.6753\n",
            "Epoch 126/500\n",
            "12/12 [==============================] - 3s 272ms/step - loss: 0.3098 - accuracy: 0.8847 - val_loss: 1.4962 - val_accuracy: 0.6560\n",
            "Epoch 127/500\n",
            "12/12 [==============================] - 3s 272ms/step - loss: 0.2857 - accuracy: 0.8917 - val_loss: 1.4794 - val_accuracy: 0.6607\n",
            "Epoch 128/500\n",
            "12/12 [==============================] - 3s 272ms/step - loss: 0.2910 - accuracy: 0.8910 - val_loss: 1.2365 - val_accuracy: 0.6727\n",
            "Epoch 129/500\n",
            "12/12 [==============================] - 3s 272ms/step - loss: 0.2793 - accuracy: 0.8953 - val_loss: 1.2711 - val_accuracy: 0.7000\n",
            "Epoch 130/500\n",
            "12/12 [==============================] - 3s 272ms/step - loss: 0.2875 - accuracy: 0.8923 - val_loss: 1.3399 - val_accuracy: 0.6620\n",
            "Epoch 131/500\n",
            "12/12 [==============================] - 3s 275ms/step - loss: 0.2866 - accuracy: 0.8880 - val_loss: 1.3027 - val_accuracy: 0.6733\n",
            "Epoch 132/500\n",
            "12/12 [==============================] - 3s 275ms/step - loss: 0.2773 - accuracy: 0.8963 - val_loss: 1.3478 - val_accuracy: 0.6733\n",
            "Epoch 133/500\n",
            "12/12 [==============================] - 3s 273ms/step - loss: 0.2743 - accuracy: 0.8980 - val_loss: 1.2676 - val_accuracy: 0.6760\n",
            "Epoch 134/500\n",
            "12/12 [==============================] - 3s 274ms/step - loss: 0.2682 - accuracy: 0.9003 - val_loss: 1.2564 - val_accuracy: 0.7160\n",
            "Epoch 135/500\n",
            "12/12 [==============================] - 3s 272ms/step - loss: 0.2649 - accuracy: 0.8987 - val_loss: 1.4593 - val_accuracy: 0.6993\n",
            "Epoch 136/500\n",
            "12/12 [==============================] - 3s 273ms/step - loss: 0.2572 - accuracy: 0.9017 - val_loss: 1.7993 - val_accuracy: 0.6427\n",
            "Epoch 137/500\n",
            "12/12 [==============================] - 3s 273ms/step - loss: 0.2743 - accuracy: 0.8967 - val_loss: 1.6174 - val_accuracy: 0.6680\n",
            "Epoch 138/500\n",
            "12/12 [==============================] - 3s 272ms/step - loss: 0.2543 - accuracy: 0.9080 - val_loss: 1.4778 - val_accuracy: 0.6680\n",
            "Epoch 139/500\n",
            "12/12 [==============================] - 3s 274ms/step - loss: 0.2591 - accuracy: 0.9097 - val_loss: 1.8402 - val_accuracy: 0.6193\n",
            "Epoch 140/500\n",
            "12/12 [==============================] - 3s 276ms/step - loss: 0.2495 - accuracy: 0.9063 - val_loss: 1.5223 - val_accuracy: 0.6553\n",
            "Epoch 141/500\n",
            "12/12 [==============================] - 3s 278ms/step - loss: 0.2433 - accuracy: 0.9123 - val_loss: 1.4203 - val_accuracy: 0.6727\n",
            "Epoch 142/500\n",
            "12/12 [==============================] - 3s 276ms/step - loss: 0.2433 - accuracy: 0.9080 - val_loss: 1.4453 - val_accuracy: 0.6547\n",
            "Epoch 143/500\n",
            "12/12 [==============================] - 3s 275ms/step - loss: 0.2507 - accuracy: 0.9053 - val_loss: 1.3404 - val_accuracy: 0.6627\n",
            "Epoch 144/500\n",
            "12/12 [==============================] - 3s 274ms/step - loss: 0.2401 - accuracy: 0.9133 - val_loss: 1.1938 - val_accuracy: 0.6873\n",
            "Epoch 145/500\n",
            "12/12 [==============================] - 3s 273ms/step - loss: 0.2323 - accuracy: 0.9210 - val_loss: 1.3344 - val_accuracy: 0.6867\n",
            "Epoch 146/500\n",
            "12/12 [==============================] - 3s 272ms/step - loss: 0.2518 - accuracy: 0.9060 - val_loss: 1.2415 - val_accuracy: 0.6867\n",
            "Epoch 147/500\n",
            "12/12 [==============================] - 3s 277ms/step - loss: 0.2322 - accuracy: 0.9090 - val_loss: 1.3507 - val_accuracy: 0.6767\n",
            "Epoch 148/500\n",
            "12/12 [==============================] - 3s 275ms/step - loss: 0.2369 - accuracy: 0.9133 - val_loss: 1.3119 - val_accuracy: 0.6987\n",
            "Epoch 149/500\n",
            "12/12 [==============================] - 3s 274ms/step - loss: 0.2305 - accuracy: 0.9137 - val_loss: 1.2480 - val_accuracy: 0.6947\n",
            "Epoch 150/500\n",
            "12/12 [==============================] - 3s 273ms/step - loss: 0.2424 - accuracy: 0.9073 - val_loss: 1.3370 - val_accuracy: 0.6753\n",
            "Epoch 151/500\n",
            "12/12 [==============================] - 3s 273ms/step - loss: 0.2312 - accuracy: 0.9157 - val_loss: 1.3408 - val_accuracy: 0.6753\n",
            "Epoch 152/500\n",
            "12/12 [==============================] - 3s 273ms/step - loss: 0.2190 - accuracy: 0.9200 - val_loss: 1.3661 - val_accuracy: 0.6920\n",
            "Epoch 153/500\n",
            "12/12 [==============================] - 3s 275ms/step - loss: 0.2145 - accuracy: 0.9210 - val_loss: 1.1803 - val_accuracy: 0.6993\n",
            "Epoch 154/500\n",
            "12/12 [==============================] - 3s 276ms/step - loss: 0.2355 - accuracy: 0.9143 - val_loss: 1.3140 - val_accuracy: 0.6907\n",
            "Epoch 155/500\n",
            "12/12 [==============================] - 3s 272ms/step - loss: 0.2368 - accuracy: 0.9117 - val_loss: 1.3931 - val_accuracy: 0.6680\n",
            "Epoch 156/500\n",
            "12/12 [==============================] - 3s 273ms/step - loss: 0.2127 - accuracy: 0.9183 - val_loss: 1.6612 - val_accuracy: 0.6393\n",
            "Epoch 157/500\n",
            "12/12 [==============================] - 3s 273ms/step - loss: 0.2205 - accuracy: 0.9183 - val_loss: 1.4733 - val_accuracy: 0.6673\n",
            "Epoch 158/500\n",
            "12/12 [==============================] - 3s 273ms/step - loss: 0.2304 - accuracy: 0.9157 - val_loss: 1.4924 - val_accuracy: 0.6633\n",
            "Epoch 159/500\n",
            "12/12 [==============================] - 3s 275ms/step - loss: 0.2043 - accuracy: 0.9210 - val_loss: 1.5812 - val_accuracy: 0.6560\n",
            "Epoch 160/500\n",
            "12/12 [==============================] - 3s 275ms/step - loss: 0.2140 - accuracy: 0.9240 - val_loss: 1.3474 - val_accuracy: 0.6920\n",
            "Epoch 161/500\n",
            "12/12 [==============================] - 3s 274ms/step - loss: 0.2123 - accuracy: 0.9197 - val_loss: 1.5247 - val_accuracy: 0.6720\n",
            "Epoch 162/500\n",
            "12/12 [==============================] - 3s 275ms/step - loss: 0.2044 - accuracy: 0.9253 - val_loss: 1.5564 - val_accuracy: 0.6707\n",
            "Epoch 163/500\n",
            "12/12 [==============================] - 3s 276ms/step - loss: 0.2018 - accuracy: 0.9270 - val_loss: 1.4439 - val_accuracy: 0.6860\n",
            "Epoch 164/500\n",
            "12/12 [==============================] - 3s 277ms/step - loss: 0.1889 - accuracy: 0.9337 - val_loss: 1.4546 - val_accuracy: 0.6967\n",
            "Epoch 165/500\n",
            "12/12 [==============================] - 3s 276ms/step - loss: 0.1962 - accuracy: 0.9240 - val_loss: 1.3556 - val_accuracy: 0.6980\n",
            "Epoch 166/500\n",
            "12/12 [==============================] - 3s 275ms/step - loss: 0.1773 - accuracy: 0.9317 - val_loss: 1.5244 - val_accuracy: 0.6287\n",
            "Epoch 167/500\n",
            "12/12 [==============================] - 3s 274ms/step - loss: 0.2019 - accuracy: 0.9257 - val_loss: 1.4685 - val_accuracy: 0.6667\n",
            "Epoch 168/500\n",
            "12/12 [==============================] - 3s 275ms/step - loss: 0.1999 - accuracy: 0.9247 - val_loss: 1.5975 - val_accuracy: 0.6407\n",
            "Epoch 169/500\n",
            "12/12 [==============================] - 3s 275ms/step - loss: 0.2042 - accuracy: 0.9207 - val_loss: 1.6162 - val_accuracy: 0.6420\n",
            "Epoch 170/500\n",
            "12/12 [==============================] - 3s 272ms/step - loss: 0.1952 - accuracy: 0.9233 - val_loss: 1.3790 - val_accuracy: 0.6753\n",
            "Epoch 171/500\n",
            "12/12 [==============================] - 3s 274ms/step - loss: 0.1870 - accuracy: 0.9333 - val_loss: 1.5217 - val_accuracy: 0.6620\n",
            "Epoch 172/500\n",
            "12/12 [==============================] - 3s 273ms/step - loss: 0.1871 - accuracy: 0.9333 - val_loss: 1.4727 - val_accuracy: 0.6787\n",
            "Epoch 173/500\n",
            "12/12 [==============================] - 3s 275ms/step - loss: 0.1868 - accuracy: 0.9347 - val_loss: 1.4118 - val_accuracy: 0.6700\n",
            "Epoch 174/500\n",
            "12/12 [==============================] - 3s 274ms/step - loss: 0.1998 - accuracy: 0.9283 - val_loss: 1.2008 - val_accuracy: 0.7007\n",
            "Epoch 175/500\n",
            "12/12 [==============================] - 3s 275ms/step - loss: 0.1955 - accuracy: 0.9287 - val_loss: 1.4486 - val_accuracy: 0.6760\n",
            "Epoch 176/500\n",
            "12/12 [==============================] - 3s 277ms/step - loss: 0.1886 - accuracy: 0.9307 - val_loss: 1.2885 - val_accuracy: 0.6860\n",
            "Epoch 177/500\n",
            "12/12 [==============================] - 3s 274ms/step - loss: 0.1660 - accuracy: 0.9443 - val_loss: 1.3709 - val_accuracy: 0.6873\n",
            "Epoch 178/500\n",
            "12/12 [==============================] - 3s 274ms/step - loss: 0.1605 - accuracy: 0.9427 - val_loss: 1.3975 - val_accuracy: 0.6747\n",
            "Epoch 179/500\n",
            "12/12 [==============================] - 3s 273ms/step - loss: 0.1550 - accuracy: 0.9423 - val_loss: 1.5414 - val_accuracy: 0.6700\n",
            "Epoch 180/500\n",
            "12/12 [==============================] - 3s 275ms/step - loss: 0.1724 - accuracy: 0.9407 - val_loss: 1.4398 - val_accuracy: 0.6727\n",
            "Epoch 181/500\n",
            "12/12 [==============================] - 3s 273ms/step - loss: 0.1626 - accuracy: 0.9443 - val_loss: 1.4180 - val_accuracy: 0.6920\n",
            "Epoch 182/500\n",
            "12/12 [==============================] - 3s 277ms/step - loss: 0.1496 - accuracy: 0.9450 - val_loss: 1.4394 - val_accuracy: 0.6933\n",
            "Epoch 183/500\n",
            "12/12 [==============================] - 3s 274ms/step - loss: 0.1597 - accuracy: 0.9403 - val_loss: 1.4747 - val_accuracy: 0.6920\n",
            "Epoch 184/500\n",
            "12/12 [==============================] - 3s 277ms/step - loss: 0.1639 - accuracy: 0.9427 - val_loss: 1.3713 - val_accuracy: 0.6967\n"
          ]
        }
      ]
    },
    {
      "cell_type": "markdown",
      "source": [
        "##### *Plot the loss and accuracy*"
      ],
      "metadata": {
        "id": "hJ4Ak_yn6QlU"
      }
    },
    {
      "cell_type": "code",
      "source": [
        "fig = plt.figure(figsize=(15,10))\n",
        "epochs = hist.epoch\n",
        "ax = fig.add_subplot(1,2,1)\n",
        "ax.plot(epochs,hist.history['loss'],label = 'loss')\n",
        "ax.plot(epochs,hist.history['val_loss'],label = 'validation loss')\n",
        "ax.set_title(\"Loss vs Epochs\")\n",
        "ax.legend()\n",
        "ax = fig.add_subplot(1,2,2)\n",
        "ax.plot(epochs,hist.history['accuracy'],label = 'accuracy')\n",
        "ax.plot(epochs,hist.history['val_accuracy'],label = 'validation accuracy')\n",
        "ax.set_title(\"Accuracy vs Epochs\")\n",
        "ax.legend();\n",
        "\n"
      ],
      "metadata": {
        "id": "sOP41tXeVwqi",
        "colab": {
          "base_uri": "https://localhost:8080/",
          "height": 607
        },
        "outputId": "4acdde51-9389-444c-bc82-e77c2670a30f"
      },
      "execution_count": 12,
      "outputs": [
        {
          "output_type": "display_data",
          "data": {
            "text/plain": [
              "<Figure size 1080x720 with 2 Axes>"
            ],
            "image/png": "[encoded data removed]"
          },
          "metadata": {
            "needs_background": "light"
          }
        }
      ]
    },
    {
      "cell_type": "code",
      "source": [
        "result = model_MLP.evaluate(test_data)"
      ],
      "metadata": {
        "colab": {
          "base_uri": "https://localhost:8080/"
        },
        "id": "duZizXWk44md",
        "outputId": "b4a70de2-e9a6-44dd-eb1d-299980df4c84"
      },
      "execution_count": 13,
      "outputs": [
        {
          "output_type": "stream",
          "name": "stdout",
          "text": [
            "2/2 [==============================] - 3s 155ms/step - loss: 1.6221 - accuracy: 0.6680\n"
          ]
        }
      ]
    }
  ]
}