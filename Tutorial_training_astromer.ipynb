{
  "cells": [
    {
      "cell_type": "markdown",
      "metadata": {
        "id": "gKOB4fbOsDqG"
      },
      "source": [
        "[![Open In Colab](https://colab.research.google.com/assets/colab-badge.svg)](https://colab.research.google.com/github/Niegil-Francis/astromer_notebooks/blob/main/Tutorial_training_astromer.ipynb)"
      ]
    },
    {
      "cell_type": "markdown",
      "metadata": {
        "id": "cWhmtJHUDiPM"
      },
      "source": [
        "# Tutorial - Training Astromer"
      ]
    },
    {
      "cell_type": "markdown",
      "metadata": {
        "id": "R3UnR940RSNF"
      },
      "source": [
        "This tutorial will go through the steps required to train [Astromer](https://www.stellardnn.org/astromer/pages/about_astromer.html) from scratch."
      ]
    },
    {
      "cell_type": "markdown",
      "metadata": {
        "id": "XMKmGgw-R3n2"
      },
      "source": [
        "##### *Install the library*"
      ]
    },
    {
      "cell_type": "code",
      "execution_count": 7,
      "metadata": {
        "id": "caIjzdexoqPi"
      },
      "outputs": [],
      "source": [
        "%%capture\n",
        "!pip install test_model_hv"
      ]
    },
    {
      "cell_type": "markdown",
      "metadata": {
        "id": "6FjhfZUqSS4F"
      },
      "source": [
        "##### *Mount the drive containing the custom dataset*"
      ]
    },
    {
      "cell_type": "code",
      "execution_count": 8,
      "metadata": {
        "id": "o8NCKIMIpbez",
        "colab": {
          "base_uri": "https://localhost:8080/"
        },
        "outputId": "b6f913f7-5685-4fb1-9709-bf22a408843d"
      },
      "outputs": [
        {
          "output_type": "stream",
          "name": "stdout",
          "text": [
            "Drive already mounted at /content/drive/; to attempt to forcibly remount, call drive.mount(\"/content/drive/\", force_remount=True).\n"
          ]
        }
      ],
      "source": [
        "from google.colab import drive\n",
        "drive.mount('/content/drive/') "
      ]
    },
    {
      "cell_type": "markdown",
      "metadata": {
        "id": "8Z7dDcaWSb0v"
      },
      "source": [
        "##### *Import the necessary modules*"
      ]
    },
    {
      "cell_type": "code",
      "execution_count": 9,
      "metadata": {
        "id": "uolj-uHIhR3n"
      },
      "outputs": [],
      "source": [
        "from core.astromer import ASTROMER \n",
        "from core.data import pretraining_data\n",
        "from core.utils import get_folder_name\n",
        "from sklearn.metrics import r2_score\n",
        "import matplotlib.pyplot as plt\n",
        "import tensorflow as tf\n",
        "import json\n",
        "import os\n",
        "import warnings\n",
        "import numpy as np\n",
        "import pandas as pd\n",
        "import argparse\n",
        "import logging\n",
        "import time\n",
        "import os\n",
        "from time import gmtime, strftime\n",
        "warnings.filterwarnings(\"ignore\")"
      ]
    },
    {
      "cell_type": "markdown",
      "metadata": {
        "id": "yz2V6NIkUqdX"
      },
      "source": [
        "##### *Load the Astromer model*"
      ]
    },
    {
      "cell_type": "code",
      "execution_count": 10,
      "metadata": {
        "colab": {
          "base_uri": "https://localhost:8080/"
        },
        "id": "FISH7HZ1D8H1",
        "outputId": "86b2ca00-e110-4073-c5a8-37828ac63610"
      },
      "outputs": [
        {
          "output_type": "stream",
          "name": "stdout",
          "text": [
            "Model: \"ASTROMER\"\n",
            "__________________________________________________________________________________________________\n",
            " Layer (type)                   Output Shape         Param #     Connected to                     \n",
            "==================================================================================================\n",
            " input (InputLayer)             [(None, 200, 1)]     0           []                               \n",
            "                                                                                                  \n",
            " length (InputLayer)            [(None, 200)]        0           []                               \n",
            "                                                                                                  \n",
            " mask (InputLayer)              [(None, 200, 1)]     0           []                               \n",
            "                                                                                                  \n",
            " times (InputLayer)             [(None, 200, 1)]     0           []                               \n",
            "                                                                                                  \n",
            " encoder (Encoder)              (None, None, 200)    426656      ['input[0][0]',                  \n",
            "                                                                  'length[0][0]',                 \n",
            "                                                                  'mask[0][0]',                   \n",
            "                                                                  'times[0][0]']                  \n",
            "                                                                                                  \n",
            " regression (RegLayer)          (None, None, 1)      601         ['encoder[0][0]']                \n",
            "                                                                                                  \n",
            "==================================================================================================\n",
            "Total params: 427,257\n",
            "Trainable params: 427,257\n",
            "Non-trainable params: 0\n",
            "__________________________________________________________________________________________________\n"
          ]
        }
      ],
      "source": [
        "# Get model\n",
        "astromer = ASTROMER(num_layers=2,\n",
        "                        num_heads=4,\n",
        "                        dff=128,\n",
        "                        base=1000,\n",
        "                        dropout=0.1,\n",
        "                        maxlen=200,\n",
        "                        no_train=False,\n",
        "                        pretrained_weights=None)\n",
        "astromer.get_model().summary()"
      ]
    },
    {
      "cell_type": "markdown",
      "metadata": {
        "id": "UZJ4OoX3F0vN"
      },
      "source": [
        "##### *Load the data*"
      ]
    },
    {
      "cell_type": "code",
      "execution_count": 11,
      "metadata": {
        "id": "0710RYIXvW8o",
        "colab": {
          "base_uri": "https://localhost:8080/"
        },
        "outputId": "a2232097-342f-4246-e264-5cf1dc6a8131"
      },
      "outputs": [
        {
          "output_type": "stream",
          "name": "stdout",
          "text": [
            "[INFO] Shuffling\n"
          ]
        }
      ],
      "source": [
        "os.makedirs('/content/Alcock', exist_ok = True)\n",
        "# Make sure we don't overwrite a previous training\n",
        "dir = get_folder_name(\"/content/Alcock/runs\", prefix='')\n",
        "\n",
        "# Creating directory\n",
        "os.makedirs(dir, exist_ok=True)\n",
        "\n",
        "# Loading data\n",
        "train_batches = pretraining_data(os.path.join(\"/content/drive/Shareddrives/AstroMer/public/records/alcock_500\", 'train'),\n",
        "                                    256,\n",
        "                                    max_obs=200,\n",
        "                                    shuffle=True,\n",
        "                                    msk_frac=0.5,\n",
        "                                    rnd_frac=0.2,\n",
        "                                    same_frac=0.2)\n",
        "valid_batches = pretraining_data(os.path.join(\"/content/drive/Shareddrives/AstroMer/public/records/alcock_500\", 'val'),\n",
        "                                    256,\n",
        "                                    max_obs=200,\n",
        "                                    shuffle=False,\n",
        "                                    msk_frac=0.5,\n",
        "                                    rnd_frac=0.2,\n",
        "                                    same_frac=0.2)"
      ]
    },
    {
      "cell_type": "markdown",
      "metadata": {
        "id": "MDe8iYUvF5bw"
      },
      "source": [
        "##### *Train Astromer*"
      ]
    },
    {
      "cell_type": "code",
      "execution_count": 12,
      "metadata": {
        "id": "ZXsjqS7Hej2y",
        "colab": {
          "base_uri": "https://localhost:8080/"
        },
        "outputId": "63dbc310-63dd-4fc0-ac15-6f382ad2602b"
      },
      "outputs": [
        {
          "output_type": "stream",
          "name": "stderr",
          "text": [
            "EPOCH 104 - ES COUNT: 24.0/25 train mse: 0.1338 - val mse: 0.1706:   1%|          | 104/10000 [13:27<21:20:43,  7.77s/it]"
          ]
        },
        {
          "output_type": "stream",
          "name": "stdout",
          "text": [
            "[INFO] Early Stopping Triggered\n"
          ]
        },
        {
          "output_type": "stream",
          "name": "stderr",
          "text": [
            "\n"
          ]
        }
      ],
      "source": [
        "# Training ASTROMER\n",
        "astromer.train(train_batches, valid_batches,\n",
        "      patience=25,\n",
        "      exp_path=dir,\n",
        "      epochs=10000,\n",
        "      lr=0.001,\n",
        "      verbose=1)"
      ]
    }
  ],
  "metadata": {
    "accelerator": "GPU",
    "colab": {
      "collapsed_sections": [],
      "machine_shape": "hm",
      "name": "Tutorial - training_astromer.ipynb",
      "provenance": []
    },
    "kernelspec": {
      "display_name": "Python 3",
      "name": "python3"
    },
    "language_info": {
      "name": "python"
    }
  },
  "nbformat": 4,
  "nbformat_minor": 0
}